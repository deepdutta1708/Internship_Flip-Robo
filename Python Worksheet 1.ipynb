{
 "cells": [
  {
   "cell_type": "code",
   "execution_count": 1,
   "id": "a583f3b6",
   "metadata": {},
   "outputs": [
    {
     "name": "stdout",
     "output_type": "stream",
     "text": [
      "Factorial of 5 is 120\n"
     ]
    }
   ],
   "source": [
    "#A program to find the factorial of a number\n",
    "\n",
    "import math\n",
    "def factorial (n):\n",
    "    return (math.factorial(n))\n",
    "\n",
    "num = 5\n",
    "print (\"Factorial of\", num, \"is\", factorial (num))"
   ]
  },
  {
   "cell_type": "code",
   "execution_count": null,
   "id": "11877307",
   "metadata": {},
   "outputs": [],
   "source": [
    "#A program to find whether a number is prime or composite\n",
    "\n",
    "n= int(input(\"Enter any number\"))\n",
    "if (n ==0 or n==1):\n",
    "    print (n, \"Number is neither prime nor composite\")\n",
    "\n",
    "elif n>1:\n",
    "    for i in range (2,n):\n",
    "        if (n%i == 0):\n",
    "            print (n, \"is not prime but a composite number\")\n",
    "            break\n",
    "        else:\n",
    "            print (n, \"is prime but not a composite number\")\n",
    "            \n",
    "else:\n",
    "    print (\"Please enter a positive number only\")"
   ]
  },
  {
   "cell_type": "code",
   "execution_count": null,
   "id": "d3aad436",
   "metadata": {},
   "outputs": [],
   "source": [
    "#A program to check a given word is palindrome or not\n",
    "\n",
    "def isPalindrome (str):\n",
    "    \n",
    "    for i in range (0, int(len(str)/2)):\n",
    "        if str[i] != str[len(str)-i -1]:\n",
    "            return False\n",
    "    return True\n",
    "\n",
    "s = \"radar\"\n",
    "ans = isPalindrome (s)\n",
    "\n",
    "if (ans):\n",
    "    print (\"Yes\")\n",
    "    \n",
    "else:\n",
    "    print (\"No\")"
   ]
  },
  {
   "cell_type": "code",
   "execution_count": null,
   "id": "634ceb35",
   "metadata": {},
   "outputs": [],
   "source": [
    "#A Python program to get the third side of right-angled triangle from two given sides\n",
    "\n",
    "import math\n",
    "\n",
    "a= float(input(\"Enter base: \"))\n",
    "b= float(input(\"Enter height: \"))\n",
    "x = float(input(\"Enter Angle: \"))\n",
    "\n",
    "c= math.sqrt (a ** 2 + b ** 2)\n",
    "\n",
    "print (\"Hypotenuse =\", c)"
   ]
  },
  {
   "cell_type": "code",
   "execution_count": null,
   "id": "953ea794",
   "metadata": {},
   "outputs": [],
   "source": [
    "str1 = input (\"Enter the string\")\n",
    "d1 = dict()\n",
    "for c in str1:\n",
    "    if c in d1:\n",
    "        d1[c] = d1[c] + 1\n",
    "    else:\n",
    "        d1[c] = 1\n",
    "        \n",
    "print (d1)"
   ]
  },
  {
   "cell_type": "code",
   "execution_count": null,
   "id": "31d11e5c",
   "metadata": {},
   "outputs": [],
   "source": []
  }
 ],
 "metadata": {
  "kernelspec": {
   "display_name": "Python 3 (ipykernel)",
   "language": "python",
   "name": "python3"
  },
  "language_info": {
   "codemirror_mode": {
    "name": "ipython",
    "version": 3
   },
   "file_extension": ".py",
   "mimetype": "text/x-python",
   "name": "python",
   "nbconvert_exporter": "python",
   "pygments_lexer": "ipython3",
   "version": "3.9.7"
  }
 },
 "nbformat": 4,
 "nbformat_minor": 5
}
